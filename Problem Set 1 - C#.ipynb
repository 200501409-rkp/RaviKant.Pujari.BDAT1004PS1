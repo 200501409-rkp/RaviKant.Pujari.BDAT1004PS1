{
 "cells": [
  {
   "cell_type": "markdown",
   "id": "1f394fe4",
   "metadata": {},
   "source": [
    "# BDAT1004 - Data Programming\n",
    "---\n",
    "## Problem Set 1 - C#\n",
    "---"
   ]
  },
  {
   "cell_type": "markdown",
   "id": "bcc702e7",
   "metadata": {},
   "source": [
    "### *Q3.*  Implement function triangleArea(a,b,c) that takes as input the lengths of the 3 sides of a triangle and returns the area of the triangle. By Heron's formula, the area of a triangle with side lengths a, b, and c is sqrt of s(s - a)(s - b)(s - c) , wheres = (a + b + c) /2."
   ]
  },
  {
   "cell_type": "code",
   "execution_count": 1,
   "id": "683fc3f3",
   "metadata": {},
   "outputs": [
    {
     "name": "stdout",
     "output_type": "stream",
     "text": [
      "1.7320508075688772\r\n"
     ]
    }
   ],
   "source": [
    "double triangleArea(int a, int b, int c)\n",
    "{\n",
    "    float s = (a+b+c)/2;\n",
    "    return Math.Sqrt(s*(s - a) * (s - b) * (s - c)); // Calculated Square Root using Math object method Sqrt()\n",
    "}\n",
    "\n",
    "Console.WriteLine(triangleArea(2,2,2));"
   ]
  }
 ],
 "metadata": {
  "kernelspec": {
   "display_name": ".NET (C#)",
   "language": "C#",
   "name": ".net-csharp"
  },
  "language_info": {
   "file_extension": ".cs",
   "mimetype": "text/x-csharp",
   "name": "C#",
   "pygments_lexer": "csharp",
   "version": "8.0"
  }
 },
 "nbformat": 4,
 "nbformat_minor": 5
}
