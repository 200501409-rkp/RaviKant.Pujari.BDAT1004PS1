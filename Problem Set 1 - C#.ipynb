{
 "cells": [
  {
   "cell_type": "markdown",
   "id": "1f394fe4",
   "metadata": {},
   "source": [
    "# BDAT1004 - Data Programming\n",
    "---\n",
    "## Problem Set 1 - C#\n",
    "---"
   ]
  },
  {
   "cell_type": "markdown",
   "id": "bcc702e7",
   "metadata": {},
   "source": [
    "### *Q3.*  Implement function triangleArea(a,b,c) that takes as input the lengths of the 3 sides of a triangle and returns the area of the triangle. By Heron's formula, the area of a triangle with side lengths a, b, and c is sqrt of s(s - a)(s - b)(s - c) , wheres = (a + b + c) /2."
   ]
  },
  {
   "cell_type": "code",
   "execution_count": 1,
   "id": "683fc3f3",
   "metadata": {},
   "outputs": [
    {
     "name": "stdout",
     "output_type": "stream",
     "text": [
      "1.7320508075688772\r\n"
     ]
    }
   ],
   "source": [
    "double triangleArea(int a, int b, int c)\n",
    "{\n",
    "    float s = (a+b+c)/2;\n",
    "    return Math.Sqrt(s*(s - a) * (s - b) * (s - c)); // Calculated Square Root using Math object method Sqrt()\n",
    "}\n",
    "\n",
    "Console.WriteLine(triangleArea(2,2,2));"
   ]
  },
  {
   "cell_type": "markdown",
   "id": "b6c42ec4",
   "metadata": {},
   "source": [
    "### *Q5.*  a.) Write a function inside(x,y,x1,y1,x2,y2) that returns True or False depending on whether the point (x,y) lies in the rectangle with lower left corner (x1,y1) and upper right corner (x2,y2).\n",
    "### b.) Use function inside() from part a. to write an expression that tests whether the point (1,1) lies in both of the following rectangles: one with lower left corner (0.3, 0.5) and upper right corner (1.1, 0.7) and the other with lower left corner (0.5, 0.2) and upper right corner (1.1, 2)."
   ]
  },
  {
   "cell_type": "code",
   "execution_count": 2,
   "id": "a648fe21",
   "metadata": {},
   "outputs": [
    {
     "name": "stdout",
     "output_type": "stream",
     "text": [
      "True\n",
      "False\n",
      "False\n",
      "True\n"
     ]
    }
   ],
   "source": [
    "bool inside(float x, float y, float x1, float y1, float x2, float y2)\n",
    "{\n",
    "    if ((x > x1 && x < x2) && (y > y1 && y < y2))\n",
    "    {\n",
    "        return true;\n",
    "    }\n",
    "    return false;\n",
    "}\n",
    "\n",
    "// Part a\n",
    "Console.WriteLine(inside(1, 1, 0, 0, 2, 3));\n",
    "Console.WriteLine(inside(-1, -1, 0, 0, 2, 3));\n",
    "\n",
    "// Part b\n",
    "Console.WriteLine(inside(1, 1, 0.3f, 0.5f, 1.1f, 0.7f));\n",
    "Console.WriteLine(inside(1, 1, 0.5f, 0.2f, 1.1f, 2));"
   ]
  }
 ],
 "metadata": {
  "kernelspec": {
   "display_name": ".NET (C#)",
   "language": "C#",
   "name": ".net-csharp"
  },
  "language_info": {
   "file_extension": ".cs",
   "mimetype": "text/x-csharp",
   "name": "C#",
   "pygments_lexer": "csharp",
   "version": "8.0"
  }
 },
 "nbformat": 4,
 "nbformat_minor": 5
}
