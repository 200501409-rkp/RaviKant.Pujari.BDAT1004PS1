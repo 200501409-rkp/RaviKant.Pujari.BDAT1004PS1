{
 "cells": [
  {
   "cell_type": "markdown",
   "id": "4b513955",
   "metadata": {},
   "source": [
    "# BDAT1004 - Data Programming\n",
    "---\n",
    "## Problem Set 1 - Python\n",
    "---"
   ]
  },
  {
   "cell_type": "markdown",
   "id": "354bab58",
   "metadata": {},
   "source": [
    "<h3> Q6. You can turn a word into pig-Latin using the following two rules (simplified):</h3>\n",
    "<ul>\n",
    "    <li>If the word starts with a consonant, move that letter to the end and append 'ay'. For example, 'happy' becomes 'appyhay' and 'pencil' becomes 'encilpay'.</li>\n",
    "    <li>If the word starts with a vowel, simply append 'way' to the end of the word. For example, 'enter' becomes 'enterway' and 'other' becomes 'otherway' . For our purposes, there are 5 vowels: a, e, i, o, u (so we count y as a consonant).</li>\n",
    "</ul>\n",
    "\n",
    "<h3> Write a function pig() that takes a word (i.e., a string) as input and returns its pig-Latin form. Your function should still work if the input word contains upper case characters. Your output should always be lower case however.</h3>"
   ]
  },
  {
   "cell_type": "code",
   "execution_count": 1,
   "id": "62a62b43",
   "metadata": {},
   "outputs": [
    {
     "name": "stdout",
     "output_type": "stream",
     "text": [
      "appyhay\n",
      "enterway\n"
     ]
    }
   ],
   "source": [
    "def pig(word):\n",
    "    alphabets = ['a', 'e', 'i', 'o', 'u'] # list of alphabets\n",
    "    # Converted first letter into lowercase using string method lower() and checked if it is there in the list or not\n",
    "    if(word[0].lower() not in alphabets):\n",
    "        word = (word[1:] + word[0] + 'ay').lower()\n",
    "    else:\n",
    "        word = (word + 'way').lower()\n",
    "    print(word)\n",
    "\n",
    "pig('happy')\n",
    "pig('Enter')"
   ]
  },
  {
   "cell_type": "markdown",
   "id": "c1b24ea5",
   "metadata": {},
   "source": [
    "<h3>Q7. File bloodtype1.txt records blood-types of patients (A, B, AB, O or OO) at a clinic. Write a function bldcount() that reads the file with name name and reports (i.e.,\n",
    "prints) how many patients there are in each bloodtype.</h3>"
   ]
  },
  {
   "cell_type": "code",
   "execution_count": 2,
   "id": "f9da7a9e",
   "metadata": {},
   "outputs": [
    {
     "name": "stdout",
     "output_type": "stream",
     "text": [
      "There are 15 patients of blood type A.\n",
      "There are 1 patients of blood type B.\n",
      "There are 13 patients of blood type AB.\n",
      "There are 15 patients of blood type O.\n",
      "There are no patients of blood type OO.\n"
     ]
    }
   ],
   "source": [
    "def bldcount(fileName):\n",
    "    # open file\n",
    "    file = open(fileName)\n",
    "    # read one line at a time from the file and created a list called 'bldGrps' by spliting the string by space.\n",
    "    bldGrps = (file.readline()).split(' ')\n",
    "    # created dictionary which contains all blood groups and their counters set to 0\n",
    "    bldGrpCount = { 'A' : 0, 'B' : 0, 'AB' : 0, 'O' : 0, 'OO' : 0 }\n",
    "    # test the blood group and increase the counter by 1 of matched blood group\n",
    "    for bldGrp in bldGrps:\n",
    "        if bldGrp == 'A':\n",
    "            bldGrpCount['A'] += 1\n",
    "        elif bldGrp == 'B':\n",
    "            bldGrpCount['B'] += 1\n",
    "        elif bldGrp == 'AB':\n",
    "            bldGrpCount['AB'] += 1\n",
    "        elif bldGrp == 'O':\n",
    "            bldGrpCount['O'] +=1\n",
    "        elif bldGrp == 'OO':\n",
    "            bldGrpCount['OO'] +=1\n",
    "    \n",
    "    # Count of bood type 'A' patients\n",
    "    if bldGrpCount['A'] > 0:\n",
    "        print(f\"There are {bldGrpCount['A']} patients of blood type A.\")\n",
    "    else:\n",
    "        print(f\"There are no patients of blood type A.\")\n",
    "    \n",
    "    # Count of bood type 'B' patients\n",
    "    if bldGrpCount['B'] > 0:\n",
    "        print(f\"There are {bldGrpCount['B']} patients of blood type B.\")\n",
    "    else:\n",
    "        print(f\"There are no patients of blood type B.\")\n",
    "    \n",
    "    # Count of bood type 'AB' patients\n",
    "    if bldGrpCount['AB'] > 0:\n",
    "        print(f\"There are {bldGrpCount['AB']} patients of blood type AB.\")\n",
    "    else:\n",
    "        print(f\"There are no patients of blood type AB.\")\n",
    "\n",
    "    # Count of bood type 'O' patients\n",
    "    if bldGrpCount['O'] > 0:\n",
    "        print(f\"There are {bldGrpCount['O']} patients of blood type O.\")\n",
    "    else:\n",
    "        print(f\"There are no patients of blood type O.\")\n",
    "    \n",
    "    # Count of bood type 'OO' patients\n",
    "    if bldGrpCount['OO'] > 0:\n",
    "        print(f\"There are {bldGrpCount['OO']} patients of blood type OO.\")\n",
    "    else:\n",
    "        print(f\"There are no patients of blood type OO.\")\n",
    "\n",
    "\n",
    "\n",
    "bldcount('bloodtype1.txt')"
   ]
  }
 ],
 "metadata": {
  "kernelspec": {
   "display_name": "Python 3 (ipykernel)",
   "language": "python",
   "name": "python3"
  },
  "language_info": {
   "codemirror_mode": {
    "name": "ipython",
    "version": 3
   },
   "file_extension": ".py",
   "mimetype": "text/x-python",
   "name": "python",
   "nbconvert_exporter": "python",
   "pygments_lexer": "ipython3",
   "version": "3.9.7"
  }
 },
 "nbformat": 4,
 "nbformat_minor": 5
}
