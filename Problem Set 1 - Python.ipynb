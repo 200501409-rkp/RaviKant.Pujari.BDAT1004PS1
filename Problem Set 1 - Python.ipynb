{
 "cells": [
  {
   "cell_type": "markdown",
   "id": "4b513955",
   "metadata": {},
   "source": [
    "# BDAT1004 - Data Programming\n",
    "---\n",
    "## Problem Set 1 - Python\n",
    "---"
   ]
  },
  {
   "cell_type": "markdown",
   "id": "354bab58",
   "metadata": {},
   "source": [
    "<h3> Q6. You can turn a word into pig-Latin using the following two rules (simplified):</h3>\n",
    "<ul>\n",
    "    <li>If the word starts with a consonant, move that letter to the end and append 'ay'. For example, 'happy' becomes 'appyhay' and 'pencil' becomes 'encilpay'.</li>\n",
    "    <li>If the word starts with a vowel, simply append 'way' to the end of the word. For example, 'enter' becomes 'enterway' and 'other' becomes 'otherway' . For our purposes, there are 5 vowels: a, e, i, o, u (so we count y as a consonant).</li>\n",
    "</ul>\n",
    "\n",
    "<h3> Write a function pig() that takes a word (i.e., a string) as input and returns its pig-Latin form. Your function should still work if the input word contains upper case characters. Your output should always be lower case however.</h3>"
   ]
  },
  {
   "cell_type": "code",
   "execution_count": 1,
   "id": "62a62b43",
   "metadata": {},
   "outputs": [
    {
     "name": "stdout",
     "output_type": "stream",
     "text": [
      "appyhay\n",
      "enterway\n"
     ]
    }
   ],
   "source": [
    "def pig(word):\n",
    "    alphabets = ['a', 'e', 'i', 'o', 'u'] # list of alphabets\n",
    "    # Converted first letter into lowercase using string method lower() and checked if it is there in the list or not\n",
    "    if(word[0].lower() not in alphabets):\n",
    "        word = (word[1:] + word[0] + 'ay').lower()\n",
    "    else:\n",
    "        word = (word + 'way').lower()\n",
    "    print(word)\n",
    "\n",
    "pig('happy')\n",
    "pig('Enter')"
   ]
  },
  {
   "cell_type": "markdown",
   "id": "c1b24ea5",
   "metadata": {},
   "source": [
    "<h3>Q7. File bloodtype1.txt records blood-types of patients (A, B, AB, O or OO) at a clinic. Write a function bldcount() that reads the file with name name and reports (i.e.,\n",
    "prints) how many patients there are in each bloodtype.</h3>"
   ]
  },
  {
   "cell_type": "code",
   "execution_count": 2,
   "id": "f9da7a9e",
   "metadata": {},
   "outputs": [
    {
     "name": "stdout",
     "output_type": "stream",
     "text": [
      "There are 15 patients of blood type A.\n",
      "There are 1 patients of blood type B.\n",
      "There are 13 patients of blood type AB.\n",
      "There are 15 patients of blood type O.\n",
      "There are no patients of blood type OO.\n"
     ]
    }
   ],
   "source": [
    "def bldcount(fileName):\n",
    "    # open file\n",
    "    file = open(fileName)\n",
    "    # read one line at a time from the file and created a list called 'bldGrps' by spliting the string by space.\n",
    "    bldGrps = (file.readline()).split(' ')\n",
    "    # created dictionary which contains all blood groups and their counters set to 0\n",
    "    bldGrpCount = { 'A' : 0, 'B' : 0, 'AB' : 0, 'O' : 0, 'OO' : 0 }\n",
    "    # test the blood group and increase the counter by 1 of matched blood group\n",
    "    for bldGrp in bldGrps:\n",
    "        if bldGrp == 'A':\n",
    "            bldGrpCount['A'] += 1\n",
    "        elif bldGrp == 'B':\n",
    "            bldGrpCount['B'] += 1\n",
    "        elif bldGrp == 'AB':\n",
    "            bldGrpCount['AB'] += 1\n",
    "        elif bldGrp == 'O':\n",
    "            bldGrpCount['O'] +=1\n",
    "        elif bldGrp == 'OO':\n",
    "            bldGrpCount['OO'] +=1\n",
    "    \n",
    "    # Count of bood type 'A' patients\n",
    "    if bldGrpCount['A'] > 0:\n",
    "        print(f\"There are {bldGrpCount['A']} patients of blood type A.\")\n",
    "    else:\n",
    "        print(f\"There are no patients of blood type A.\")\n",
    "    \n",
    "    # Count of bood type 'B' patients\n",
    "    if bldGrpCount['B'] > 0:\n",
    "        print(f\"There are {bldGrpCount['B']} patients of blood type B.\")\n",
    "    else:\n",
    "        print(f\"There are no patients of blood type B.\")\n",
    "    \n",
    "    # Count of bood type 'AB' patients\n",
    "    if bldGrpCount['AB'] > 0:\n",
    "        print(f\"There are {bldGrpCount['AB']} patients of blood type AB.\")\n",
    "    else:\n",
    "        print(f\"There are no patients of blood type AB.\")\n",
    "\n",
    "    # Count of bood type 'O' patients\n",
    "    if bldGrpCount['O'] > 0:\n",
    "        print(f\"There are {bldGrpCount['O']} patients of blood type O.\")\n",
    "    else:\n",
    "        print(f\"There are no patients of blood type O.\")\n",
    "    \n",
    "    # Count of bood type 'OO' patients\n",
    "    if bldGrpCount['OO'] > 0:\n",
    "        print(f\"There are {bldGrpCount['OO']} patients of blood type OO.\")\n",
    "    else:\n",
    "        print(f\"There are no patients of blood type OO.\")\n",
    "\n",
    "\n",
    "\n",
    "bldcount('bloodtype1.txt')"
   ]
  },
  {
   "cell_type": "markdown",
   "id": "66e70778",
   "metadata": {},
   "source": [
    "<h3> Q8. Write a function curconv() that takes as input:</h3>\n",
    "<ul>\n",
    "    <li>a currency represented using a string (e.g., 'JPY' for the Japanese Yen or\n",
    "'EUR' for the Euro)</li>\n",
    "    <li>an amount</li>\n",
    "</ul>\n",
    "\n",
    "<h3>and then converts and returns the amount in US dollars.</h3>"
   ]
  },
  {
   "cell_type": "code",
   "execution_count": 3,
   "id": "d58b88f5",
   "metadata": {},
   "outputs": [
    {
     "name": "stdout",
     "output_type": "stream",
     "text": [
      "$122.96544\n"
     ]
    }
   ],
   "source": [
    "def curconv(cur, amnt):\n",
    "    # open file\n",
    "    file = open('currencies.txt')\n",
    "    # read all line from the file and iterate line by line\n",
    "    for line in file.readlines():\n",
    "        # check if 'cur' is there in the line\n",
    "        if cur in line:\n",
    "            currency = line.split('\\t') # create a list by spliting the read line; delimiter: \\t (tab)\n",
    "            currValue = currency[1] # get currency value from the list\n",
    "            return \"$\" + str(float(currValue) * amnt) # calculate and return the converted value\n",
    "    return \"Currency Not Available.\"\n",
    "\n",
    "print(curconv('EUR', 100))"
   ]
  },
  {
   "cell_type": "markdown",
   "id": "56b1c9de",
   "metadata": {},
   "source": [
    "<h3> Q9. Each of the following will cause an exception (an error). Identify what type of\n",
    "exception each will cause.</h3>\n",
    "<ul>\n",
    "    <li>Trying to add incompatible variables, as in\n",
    "adding 6 + ‘a’</li>\n",
    "    <li>Referring to the 12th item of a list that has only 10\n",
    "items</li>\n",
    "    <li>Using a value that is out of range for a function’s input, such as calling math.sqrt(-1.0)</li>\n",
    "    <li>Using an undeclared variable, such as print(x) when x has not been defined</li>\n",
    "    <li>Trying to open a file that does not exist, such as mistyping the file name or looking in the wrong directory.</li>\n",
    "</ul>"
   ]
  },
  {
   "cell_type": "code",
   "execution_count": 4,
   "id": "b232473a",
   "metadata": {},
   "outputs": [
    {
     "ename": "TypeError",
     "evalue": "unsupported operand type(s) for +: 'int' and 'str'",
     "output_type": "error",
     "traceback": [
      "\u001b[1;31m---------------------------------------------------------------------------\u001b[0m",
      "\u001b[1;31mTypeError\u001b[0m                                 Traceback (most recent call last)",
      "\u001b[1;32m~\\AppData\\Local\\Temp/ipykernel_17032/1080731753.py\u001b[0m in \u001b[0;36m<module>\u001b[1;34m\u001b[0m\n\u001b[1;32m----> 1\u001b[1;33m \u001b[1;36m6\u001b[0m \u001b[1;33m+\u001b[0m \u001b[1;34m'a'\u001b[0m \u001b[1;31m# It will produce TypeError exception\u001b[0m\u001b[1;33m\u001b[0m\u001b[1;33m\u001b[0m\u001b[0m\n\u001b[0m",
      "\u001b[1;31mTypeError\u001b[0m: unsupported operand type(s) for +: 'int' and 'str'"
     ]
    }
   ],
   "source": [
    "6 + 'a' # It will produce TypeError exception"
   ]
  },
  {
   "cell_type": "code",
   "execution_count": 5,
   "id": "224b8881",
   "metadata": {},
   "outputs": [
    {
     "ename": "IndexError",
     "evalue": "list index out of range",
     "output_type": "error",
     "traceback": [
      "\u001b[1;31m---------------------------------------------------------------------------\u001b[0m",
      "\u001b[1;31mIndexError\u001b[0m                                Traceback (most recent call last)",
      "\u001b[1;32m~\\AppData\\Local\\Temp/ipykernel_17032/3392330369.py\u001b[0m in \u001b[0;36m<module>\u001b[1;34m\u001b[0m\n\u001b[0;32m      1\u001b[0m \u001b[0mnums\u001b[0m \u001b[1;33m=\u001b[0m \u001b[1;33m[\u001b[0m\u001b[1;36m1\u001b[0m\u001b[1;33m,\u001b[0m \u001b[1;36m2\u001b[0m\u001b[1;33m,\u001b[0m \u001b[1;36m3\u001b[0m\u001b[1;33m,\u001b[0m \u001b[1;36m4\u001b[0m\u001b[1;33m,\u001b[0m \u001b[1;36m5\u001b[0m\u001b[1;33m,\u001b[0m \u001b[1;36m6\u001b[0m\u001b[1;33m,\u001b[0m \u001b[1;36m7\u001b[0m\u001b[1;33m,\u001b[0m \u001b[1;36m8\u001b[0m\u001b[1;33m,\u001b[0m \u001b[1;36m9\u001b[0m\u001b[1;33m,\u001b[0m \u001b[1;36m0\u001b[0m\u001b[1;33m]\u001b[0m\u001b[1;33m\u001b[0m\u001b[1;33m\u001b[0m\u001b[0m\n\u001b[1;32m----> 2\u001b[1;33m \u001b[0mnums\u001b[0m\u001b[1;33m[\u001b[0m\u001b[1;36m12\u001b[0m\u001b[1;33m]\u001b[0m \u001b[1;31m# It will produce IndexError exception\u001b[0m\u001b[1;33m\u001b[0m\u001b[1;33m\u001b[0m\u001b[0m\n\u001b[0m",
      "\u001b[1;31mIndexError\u001b[0m: list index out of range"
     ]
    }
   ],
   "source": [
    "nums = [1, 2, 3, 4, 5, 6, 7, 8, 9, 0]\n",
    "nums[12] # It will produce IndexError exception"
   ]
  },
  {
   "cell_type": "code",
   "execution_count": 6,
   "id": "ce6b6868",
   "metadata": {},
   "outputs": [
    {
     "ename": "ValueError",
     "evalue": "math domain error",
     "output_type": "error",
     "traceback": [
      "\u001b[1;31m---------------------------------------------------------------------------\u001b[0m",
      "\u001b[1;31mValueError\u001b[0m                                Traceback (most recent call last)",
      "\u001b[1;32m~\\AppData\\Local\\Temp/ipykernel_17032/3620718219.py\u001b[0m in \u001b[0;36m<module>\u001b[1;34m\u001b[0m\n\u001b[0;32m      1\u001b[0m \u001b[1;32mimport\u001b[0m \u001b[0mmath\u001b[0m\u001b[1;33m\u001b[0m\u001b[1;33m\u001b[0m\u001b[0m\n\u001b[0;32m      2\u001b[0m \u001b[1;33m\u001b[0m\u001b[0m\n\u001b[1;32m----> 3\u001b[1;33m \u001b[0mmath\u001b[0m\u001b[1;33m.\u001b[0m\u001b[0msqrt\u001b[0m\u001b[1;33m(\u001b[0m\u001b[1;33m-\u001b[0m\u001b[1;36m1.0\u001b[0m\u001b[1;33m)\u001b[0m \u001b[1;31m# It will produce ValueError exception\u001b[0m\u001b[1;33m\u001b[0m\u001b[1;33m\u001b[0m\u001b[0m\n\u001b[0m",
      "\u001b[1;31mValueError\u001b[0m: math domain error"
     ]
    }
   ],
   "source": [
    "import math\n",
    "\n",
    "math.sqrt(-1.0) # It will produce ValueError exception"
   ]
  },
  {
   "cell_type": "code",
   "execution_count": 7,
   "id": "acd393b4",
   "metadata": {},
   "outputs": [
    {
     "ename": "NameError",
     "evalue": "name 'x' is not defined",
     "output_type": "error",
     "traceback": [
      "\u001b[1;31m---------------------------------------------------------------------------\u001b[0m",
      "\u001b[1;31mNameError\u001b[0m                                 Traceback (most recent call last)",
      "\u001b[1;32m~\\AppData\\Local\\Temp/ipykernel_17032/2685827589.py\u001b[0m in \u001b[0;36m<module>\u001b[1;34m\u001b[0m\n\u001b[1;32m----> 1\u001b[1;33m \u001b[0mprint\u001b[0m\u001b[1;33m(\u001b[0m\u001b[0mx\u001b[0m\u001b[1;33m)\u001b[0m \u001b[1;31m# It will produce NameError exception\u001b[0m\u001b[1;33m\u001b[0m\u001b[1;33m\u001b[0m\u001b[0m\n\u001b[0m",
      "\u001b[1;31mNameError\u001b[0m: name 'x' is not defined"
     ]
    }
   ],
   "source": [
    "print(x) # It will produce NameError exception"
   ]
  },
  {
   "cell_type": "code",
   "execution_count": 8,
   "id": "c4687167",
   "metadata": {
    "scrolled": true
   },
   "outputs": [
    {
     "ename": "FileNotFoundError",
     "evalue": "[Errno 2] No such file or directory: 'file1.txt'",
     "output_type": "error",
     "traceback": [
      "\u001b[1;31m---------------------------------------------------------------------------\u001b[0m",
      "\u001b[1;31mFileNotFoundError\u001b[0m                         Traceback (most recent call last)",
      "\u001b[1;32m~\\AppData\\Local\\Temp/ipykernel_17032/3361311694.py\u001b[0m in \u001b[0;36m<module>\u001b[1;34m\u001b[0m\n\u001b[1;32m----> 1\u001b[1;33m \u001b[0mfile\u001b[0m \u001b[1;33m=\u001b[0m \u001b[0mopen\u001b[0m\u001b[1;33m(\u001b[0m\u001b[1;34m'file1.txt'\u001b[0m\u001b[1;33m)\u001b[0m \u001b[1;31m# Here 'file1.txt' does not exist.\u001b[0m\u001b[1;33m\u001b[0m\u001b[1;33m\u001b[0m\u001b[0m\n\u001b[0m",
      "\u001b[1;31mFileNotFoundError\u001b[0m: [Errno 2] No such file or directory: 'file1.txt'"
     ]
    }
   ],
   "source": [
    "file = open('file1.txt') # Here 'file1.txt' does not exist."
   ]
  },
  {
   "cell_type": "markdown",
   "id": "919aa909",
   "metadata": {},
   "source": [
    "<h3>Q10. Encryption is the process of hiding the meaning of a text by substituting letters in the message with other letters, according to some system. If the process is successful, no one but the intended recipient can understand the encrypted message. Cryptanalysis refers to attempts to undo the encryption, even if some details of the encryption are unknown (for example, if an encrypted message has been intercepted). The first step of cryptanalysis is often to build up a table of letter frequencies in the encrypted text. Assume that the string letters is already defined as 'abcdefghijklmnopqrstuvwxyz'.</h3>\n",
    "<h3>Write a function called frequencies() that takes a string as its only parameter, and returns a list of integers, showing the number of times each character appears in the text. Your function may ignore any characters that are not in letters.</h3>"
   ]
  },
  {
   "cell_type": "code",
   "execution_count": 9,
   "id": "013a42a2",
   "metadata": {},
   "outputs": [
    {
     "name": "stdout",
     "output_type": "stream",
     "text": [
      "[1, 1, 1, 3, 5, 1, 1, 2, 1, 0, 1, 0, 1, 2, 4, 0, 1, 2, 0, 2, 1, 0, 1, 1, 0, 0]\n",
      "[1, 0, 0, 0, 1, 0, 0, 0, 0, 0, 0, 1, 0, 0, 0, 2, 0, 0, 0, 0, 0, 0, 0, 0, 0, 0]\n"
     ]
    }
   ],
   "source": [
    "def frequencies(string):\n",
    "    letters = 'abcdefghijklmnopqrstuvwxyz'\n",
    "    freq = [0]*26 # List of 26 elements, initialized with 0 (zero)\n",
    "    for i in range(26):\n",
    "        freq[i] += string.count(letters[i]) # count the frequencies of each letter using string method count()\n",
    "    print(freq)\n",
    "\n",
    "\n",
    "frequencies('The quick red fox got bored and went home.')\n",
    "frequencies('apple')"
   ]
  }
 ],
 "metadata": {
  "kernelspec": {
   "display_name": "Python 3 (ipykernel)",
   "language": "python",
   "name": "python3"
  },
  "language_info": {
   "codemirror_mode": {
    "name": "ipython",
    "version": 3
   },
   "file_extension": ".py",
   "mimetype": "text/x-python",
   "name": "python",
   "nbconvert_exporter": "python",
   "pygments_lexer": "ipython3",
   "version": "3.9.7"
  }
 },
 "nbformat": 4,
 "nbformat_minor": 5
}
