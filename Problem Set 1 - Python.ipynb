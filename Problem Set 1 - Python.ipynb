{
 "cells": [
  {
   "cell_type": "markdown",
   "id": "4b513955",
   "metadata": {},
   "source": [
    "# BDAT1004 - Data Programming\n",
    "---\n",
    "## Problem Set 1 - Python\n",
    "---"
   ]
  },
  {
   "cell_type": "markdown",
   "id": "354bab58",
   "metadata": {},
   "source": [
    "<h3> Q6. You can turn a word into pig-Latin using the following two rules (simplified):</h3>\n",
    "<ul>\n",
    "    <li>If the word starts with a consonant, move that letter to the end and append 'ay'. For example, 'happy' becomes 'appyhay' and 'pencil' becomes 'encilpay'.</li>\n",
    "    <li>If the word starts with a vowel, simply append 'way' to the end of the word. For example, 'enter' becomes 'enterway' and 'other' becomes 'otherway' . For our purposes, there are 5 vowels: a, e, i, o, u (so we count y as a consonant).</li>\n",
    "</ul>\n",
    "\n",
    "<h3> Write a function pig() that takes a word (i.e., a string) as input and returns its pig-Latin form. Your function should still work if the input word contains upper case characters. Your output should always be lower case however.</h3>"
   ]
  },
  {
   "cell_type": "code",
   "execution_count": 1,
   "id": "62a62b43",
   "metadata": {},
   "outputs": [
    {
     "name": "stdout",
     "output_type": "stream",
     "text": [
      "appyhay\n",
      "enterway\n"
     ]
    }
   ],
   "source": [
    "def pig(word):\n",
    "    alphabets = ['a', 'e', 'i', 'o', 'u'] # list of alphabets\n",
    "    # Converted first letter into lowercase using string method lower() and checked if it is there in the list or not\n",
    "    if(word[0].lower() not in alphabets):\n",
    "        word = (word[1:] + word[0] + 'ay').lower()\n",
    "    else:\n",
    "        word = (word + 'way').lower()\n",
    "    print(word)\n",
    "\n",
    "pig('happy')\n",
    "pig('Enter')"
   ]
  }
 ],
 "metadata": {
  "kernelspec": {
   "display_name": "Python 3 (ipykernel)",
   "language": "python",
   "name": "python3"
  },
  "language_info": {
   "codemirror_mode": {
    "name": "ipython",
    "version": 3
   },
   "file_extension": ".py",
   "mimetype": "text/x-python",
   "name": "python",
   "nbconvert_exporter": "python",
   "pygments_lexer": "ipython3",
   "version": "3.9.7"
  }
 },
 "nbformat": 4,
 "nbformat_minor": 5
}
